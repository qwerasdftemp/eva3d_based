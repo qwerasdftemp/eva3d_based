{
  "cells": [
    {
      "cell_type": "markdown",
      "metadata": {
        "id": "fs5d3XLV4Q74"
      },
      "source": [
        "# EVA3D: Compositional 3D Human Generation from 2D Image Collections\n",
        "\n",
        "Authored by Fangzhou Hong, Zhaoxi Chen, Yushi Lan, Liang Pan, Ziwei Liu\n",
        "\n",
        "This colab notebook provides a quick demo of EVA3D with the model trained on DeepFashion.\n",
        "\n",
        "Useful links:\n",
        "\n",
        "1. Github Repo: https://github.com/hongfz16/EVA3D\n",
        "2. Project Page: https://hongfz16.github.io/projects/EVA3D.html\n",
        "3. arXiv Link: https://arxiv.org/abs/2210.04888"
      ]
    },
    {
      "cell_type": "code",
      "execution_count": null,
      "metadata": {
        "cellView": "form",
        "id": "tghBzhyP4NFr"
      },
      "outputs": [],
      "source": [
        "# @title Licensed under the S-Lab License\n",
        "\n",
        "# S-Lab License 1.0\n",
        "\n",
        "# Copyright 2022 S-Lab\n",
        "\n",
        "# Redistribution and use for non-commercial purpose in source and binary forms, with or without modification, are permitted provided that the following conditions are met: \n",
        "# 1. Redistributions of source code must retain the above copyright notice, this list of conditions and the following disclaimer.\n",
        "# 2. Redistributions in binary form must reproduce the above copyright notice, this list of conditions and the following disclaimer in the documentation and/or other materials provided with the distribution.\n",
        "# 3. Neither the name of the copyright holder nor the names of its contributors may be used to endorse or promote products derived from this software without specific prior written permission.\n",
        "# THIS SOFTWARE IS PROVIDED BY THE COPYRIGHT HOLDERS AND CONTRIBUTORS \"AS IS\" AND ANY EXPRESS OR IMPLIED WARRANTIES, INCLUDING, BUT NOT LIMITED TO, THE IMPLIED WARRANTIES OF MERCHANTABILITY AND FITNESS FOR A PARTICULAR PURPOSE ARE DISCLAIMED. IN NO EVENT SHALL THE COPYRIGHT HOLDER OR CONTRIBUTORS BE LIABLE FOR ANY DIRECT, INDIRECT, INCIDENTAL, SPECIAL, EXEMPLARY, OR CONSEQUENTIAL DAMAGES (INCLUDING, BUT NOT LIMITED TO, PROCUREMENT OF SUBSTITUTE GOODS OR SERVICES; LOSS OF USE, DATA, OR PROFITS; OR BUSINESS INTERRUPTION) HOWEVER CAUSED AND ON ANY THEORY OF LIABILITY, WHETHER IN CONTRACT, STRICT LIABILITY, OR TORT (INCLUDING NEGLIGENCE OR OTHERWISE) ARISING IN ANY WAY OUT OF THE USE OF THIS SOFTWARE, EVEN IF ADVISED OF THE POSSIBILITY OF SUCH DAMAGE.\n",
        "# 4. In the event that redistribution and/or use for commercial purpose in source or binary forms, with or without modification is required, please contact the contributor(s) of the work.\n"
      ]
    },
    {
      "cell_type": "code",
      "execution_count": null,
      "metadata": {
        "colab": {
          "base_uri": "https://localhost:8080/"
        },
        "id": "6cDCtHPy8z39",
        "outputId": "1116f3e9-3a86-48dc-ea5f-b5b975844b66"
      },
      "outputs": [],
      "source": [
        "# @title Setup Everything\n",
        "\n",
        "!nvidia-smi\n",
        "!git clone https://github.com/hongfz16/EVA3D.git\n",
        "!pip install torch==1.11.0+cu113 torchvision==0.12.0+cu113 torchaudio==0.11.0 --extra-index-url https://download.pytorch.org/whl/cu113\n",
        "\n",
        "import sys\n",
        "import torch\n",
        "pyt_version_str=torch.__version__.split(\"+\")[0].replace(\".\", \"\")\n",
        "version_str=\"\".join([\n",
        "    f\"py3{sys.version_info.minor}_cu\",\n",
        "    torch.version.cuda.replace(\".\",\"\"),\n",
        "    f\"_pyt{pyt_version_str}\"\n",
        "])\n",
        "!pip install fvcore iopath\n",
        "!pip install --no-index --no-cache-dir pytorch3d -f https://dl.fbaipublicfiles.com/pytorch3d/packaging/wheels/{version_str}/download.html\n",
        "!pip install -r EVA3D/requirements.txt"
      ]
    },
    {
      "cell_type": "code",
      "execution_count": null,
      "metadata": {
        "colab": {
          "base_uri": "https://localhost:8080/"
        },
        "id": "hBuIWQB29QMq",
        "outputId": "b8a0f121-a425-45ed-b510-6b7fe73d7d49"
      },
      "outputs": [],
      "source": [
        "# @title Download Models\n",
        "%cd EVA3D\n",
        "from download_models import download_pretrained_models\n",
        "download_pretrained_models()"
      ]
    },
    {
      "attachments": {},
      "cell_type": "markdown",
      "metadata": {},
      "source": [
        "Register and download SMPL models [here](https://smpl.is.tue.mpg.de/). Put the downloaded models in the folder smpl_models. Only the neutral one is needed. The folder structure should look like\n",
        "\n",
        "```\n",
        "./\n",
        "├── ...\n",
        "└── smpl_models/\n",
        "    ├── smpl/\n",
        "        └── SMPL_NEUTRAL.pkl\n",
        "```"
      ]
    },
    {
      "cell_type": "code",
      "execution_count": null,
      "metadata": {
        "colab": {
          "base_uri": "https://localhost:8080/",
          "height": 1000
        },
        "id": "2yeQplsLDEEJ",
        "outputId": "6d4a12b8-3c19-4a82-bf56-dc3c25fb0297"
      },
      "outputs": [],
      "source": [
        "# @title Start the Genenration!\n",
        "!python generation_demo.py --batch 1 --chunk 1 --expname 512x256_deepfashion --dataset_path demodataset --depth 5 --width 128 --style_dim 128 --renderer_spatial_output_dim 512 256 --no_sphere_init --input_ch_views 3 --white_bg --voxhuman_name eva3d_deepfashion --deltasdf --N_samples 28 --ckpt 420000 --identities 1 --truncation_ratio 0.5\n",
        "from IPython.display import Image\n",
        "Image('evaluations/512x256_deepfashion/iter_0420000/random_angles/images_paper_fig/0000000.png')"
      ]
    },
    {
      "cell_type": "code",
      "execution_count": null,
      "metadata": {
        "id": "2beqHBntEZZp"
      },
      "outputs": [],
      "source": []
    }
  ],
  "metadata": {
    "accelerator": "GPU",
    "colab": {
      "provenance": []
    },
    "gpuClass": "standard",
    "kernelspec": {
      "display_name": "Python 3",
      "name": "python3"
    },
    "language_info": {
      "name": "python"
    }
  },
  "nbformat": 4,
  "nbformat_minor": 0
}
